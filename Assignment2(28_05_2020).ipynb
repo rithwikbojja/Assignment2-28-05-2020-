{
  "nbformat": 4,
  "nbformat_minor": 0,
  "metadata": {
    "colab": {
      "name": "Assignment2(28-05-2020)",
      "provenance": []
    },
    "kernelspec": {
      "name": "python3",
      "display_name": "Python 3"
    }
  },
  "cells": [
    {
      "cell_type": "code",
      "metadata": {
        "id": "81L87pH6CnqT",
        "colab_type": "code",
        "colab": {
          "base_uri": "https://localhost:8080/",
          "height": 34
        },
        "outputId": "7f7dd1a3-2309-44b4-b716-9cdfff86b2de"
      },
      "source": [
        "#Read the input as two limits and Print the output as Palindrome count between the two limits\n",
        "\n",
        "def num_palindromes(start, end):\n",
        "    count = 0\n",
        "    for i in range(start, end + 1):\n",
        "        if str(i) == str(i)[::-1]:\n",
        "            count += 1\n",
        "    return count\n",
        "count = num_palindromes(1,100)\n",
        "print(count)"
      ],
      "execution_count": 1,
      "outputs": [
        {
          "output_type": "stream",
          "text": [
            "18\n"
          ],
          "name": "stdout"
        }
      ]
    },
    {
      "cell_type": "code",
      "metadata": {
        "id": "KoNXgiJNCnsi",
        "colab_type": "code",
        "colab": {
          "base_uri": "https://localhost:8080/",
          "height": 51
        },
        "outputId": "63469da5-19b7-4160-b844-76ddde151e35"
      },
      "source": [
        "#Accept a number as an input and check whether the given number is palindrome or not\n",
        "\n",
        "n=int(input(\"enter number\"))\n",
        "s = 0\n",
        "while True:\n",
        "    k = str(n)\n",
        "    if k == k[::-1]:\n",
        "        print(k)\n",
        "        break\n",
        "    else:\n",
        "      m = int(k[::-1])\n",
        "      n += m\n",
        "      s += 1\n",
        "      print(k)"
      ],
      "execution_count": 2,
      "outputs": [
        {
          "output_type": "stream",
          "text": [
            "enter number121\n",
            "121\n"
          ],
          "name": "stdout"
        }
      ]
    },
    {
      "cell_type": "code",
      "metadata": {
        "id": "ti5EyNtfCnwk",
        "colab_type": "code",
        "colab": {
          "base_uri": "https://localhost:8080/",
          "height": 51
        },
        "outputId": "b010616d-db9b-430d-f34b-78bf894f5305"
      },
      "source": [
        "\n",
        "#Accept input as a string and display sum of digits as the output \n",
        "n=input('')\n",
        "sum= 0\n",
        "for x in n:\n",
        "    if x.isdigit() == True:\n",
        "            z = int(x)\n",
        "            sum= sum + z\n",
        "print(sum)"
      ],
      "execution_count": 4,
      "outputs": [
        {
          "output_type": "stream",
          "text": [
            "ritg123\n",
            "6\n"
          ],
          "name": "stdout"
        }
      ]
    },
    {
      "cell_type": "code",
      "metadata": {
        "id": "w3a1g3c8Cnyq",
        "colab_type": "code",
        "colab": {
          "base_uri": "https://localhost:8080/",
          "height": 51
        },
        "outputId": "8e3b6d65-80fc-4b51-9ff0-fbb2482391c4"
      },
      "source": [
        "#Write a program to prompt for a score between 0.0 and 1.0. If the score is out of range, print an error. If the score is between 0.0 and 1.0, print a grade using the following table:\n",
        "\n",
        "score = float(input(\" \"))\n",
        "if score>1.0 or score<0.0 :\n",
        "    print(\"error\")\n",
        "elif score>=0.9 :\n",
        "    print ('A')\n",
        "elif score>=0.8 :\n",
        "    print( 'B')\n",
        "elif score>=0.7 :\n",
        "    print( 'C')\n",
        "elif score>=0.6 :\n",
        "    print( 'D')\n",
        "else :\n",
        "    print( 'F')"
      ],
      "execution_count": 6,
      "outputs": [
        {
          "output_type": "stream",
          "text": [
            " 0.85\n",
            "B\n"
          ],
          "name": "stdout"
        }
      ]
    },
    {
      "cell_type": "code",
      "metadata": {
        "id": "hrsGsAEACn09",
        "colab_type": "code",
        "colab": {
          "base_uri": "https://localhost:8080/",
          "height": 119
        },
        "outputId": "c05416f3-d2d9-48ee-b54e-9a4865d58fa2"
      },
      "source": [
        "#Write a Python program which iterates the integers from 1 to 50. For multiples of three print \"Fizz\" instead of the number and for the multiples of five print \"Buzz\". For numbers which are multiples of both three and five print \"FizzBuzz\".\n",
        "\n",
        "for fizzbuzz in range(6):\n",
        "    if fizzbuzz % 3 == 0 and fizzbuzz % 5 == 0:\n",
        "        print(\"fizzbuzz\")\n",
        "        continue\n",
        "    elif fizzbuzz % 3 == 0:\n",
        "        print(\"fizz\")\n",
        "        continue\n",
        "    elif fizzbuzz % 5 == 0:\n",
        "        print(\"buzz\")\n",
        "        continue\n",
        "    print(fizzbuzz)"
      ],
      "execution_count": 7,
      "outputs": [
        {
          "output_type": "stream",
          "text": [
            "fizzbuzz\n",
            "1\n",
            "2\n",
            "fizz\n",
            "4\n",
            "buzz\n"
          ],
          "name": "stdout"
        }
      ]
    },
    {
      "cell_type": "code",
      "metadata": {
        "id": "je7BviovCn26",
        "colab_type": "code",
        "colab": {
          "base_uri": "https://localhost:8080/",
          "height": 85
        },
        "outputId": "001a3719-4138-4d69-e1e3-6003948163bd"
      },
      "source": [
        "#Write a Python program to find the median of three values.\n",
        "a = int(input(\"num1\"))\n",
        "b = int(input(\"num2\"))\n",
        "c = int(input(\"num3\"))\n",
        "\n",
        "if b < a and a < c:\n",
        "    print(a)\n",
        "elif c < a and a < b:\n",
        "    print(a)\n",
        "    \n",
        "elif c < b and b < a:\n",
        "    print(b)\n",
        "elif a < b and b < c:\n",
        "    print(b)\n",
        "    \n",
        "elif b < c and c < a:\n",
        "    print(c)    \n",
        "elif a < c and c < b:\n",
        "    print(c)"
      ],
      "execution_count": 9,
      "outputs": [
        {
          "output_type": "stream",
          "text": [
            "num1126\n",
            "num2215\n",
            "num39\n",
            "126\n"
          ],
          "name": "stdout"
        }
      ]
    },
    {
      "cell_type": "code",
      "metadata": {
        "id": "BTd17Si3Cn5T",
        "colab_type": "code",
        "colab": {
          "base_uri": "https://localhost:8080/",
          "height": 85
        },
        "outputId": "7595b3b9-2f88-4f8a-943f-349d614e470a"
      },
      "source": [
        "str = input(\"Enter the string :\")\n",
        "vowels = 0\n",
        "consonants = 0\n",
        "symbols = 0\n",
        "str = str.lower()\n",
        "for i in range(0, len(str)):\n",
        "    if(str[i] == 'a'or str[i] == 'e' or str[i] == 'i'\n",
        "       or str[i] == 'o' or str[i] == 'u'):\n",
        "        vowels = vowels + 1\n",
        "    elif ((str[i] >= 'a'and str[i] <= 'z')):\n",
        "            consonants = consonants + 1\n",
        "    else:\n",
        "         symbols = symbols + 1\n",
        "print(\"vowels\" , vowels)\n",
        "print(\"Consonants:\", consonants)\n",
        "print(\"Symbols :\", symbols)"
      ],
      "execution_count": 10,
      "outputs": [
        {
          "output_type": "stream",
          "text": [
            "Enter the string :rith@1\n",
            "vowels 1\n",
            "Consonants: 3\n",
            "Symbols : 2\n"
          ],
          "name": "stdout"
        }
      ]
    },
    {
      "cell_type": "code",
      "metadata": {
        "id": "wx2peAL9DQX1",
        "colab_type": "code",
        "colab": {
          "base_uri": "https://localhost:8080/",
          "height": 34
        },
        "outputId": "c5a8002c-055d-4568-eec3-7eb5ad69c31d"
      },
      "source": [
        "#input:orange  →   output : puboif\n",
        "value = 'orange'\n",
        "var=(chr(ord(value[0])+1))\n",
        "var1=(chr(ord(value[1])+3))\n",
        "var2=(chr(ord(value[2])+1))\n",
        "var3=(chr(ord(value[3])+1))\n",
        "var4=(chr(ord(value[4])+2))\n",
        "var5=(chr(ord(value[5])+1))\n",
        "value=var+var1+var2+var3+var4+var5\n",
        "print(value)"
      ],
      "execution_count": 11,
      "outputs": [
        {
          "output_type": "stream",
          "text": [
            "puboif\n"
          ],
          "name": "stdout"
        }
      ]
    },
    {
      "cell_type": "code",
      "metadata": {
        "id": "rGdjHNF8DQbL",
        "colab_type": "code",
        "colab": {
          "base_uri": "https://localhost:8080/",
          "height": 51
        },
        "outputId": "5c444402-4079-4cb6-a184-ba45288ab04d"
      },
      "source": [
        "#count the no.of pairs of a in the given string(Infosys InfyTQ)\n",
        "str=input(\"enter string:  \")\n",
        "count=0\n",
        "i=0\n",
        "k=len(str)\n",
        "while i<k-1:\n",
        "    if(str[i]=='a'):\n",
        "        if(str[i+1]=='a'):\n",
        "            count+=1\n",
        "            i+=1\n",
        "    i+=1\n",
        "print(count)"
      ],
      "execution_count": 14,
      "outputs": [
        {
          "output_type": "stream",
          "text": [
            "enter string:  abbaaccbbaaa\n",
            "2\n"
          ],
          "name": "stdout"
        }
      ]
    },
    {
      "cell_type": "code",
      "metadata": {
        "id": "vF6Sf6NnCn8f",
        "colab_type": "code",
        "colab": {
          "base_uri": "https://localhost:8080/",
          "height": 51
        },
        "outputId": "4ca5a77f-f113-4eed-bb1a-83b0cb30cb1e"
      },
      "source": [
        "#Question 3:\n",
        "s=input(\"string : \")\n",
        "count=0\n",
        "i=0\n",
        "while i<(len(s)-1):\n",
        "    if(s[i]=='('):\n",
        "        count+=1\n",
        "    i+=1\n",
        "print(count)"
      ],
      "execution_count": 13,
      "outputs": [
        {
          "output_type": "stream",
          "text": [
            "string : ((((()()()))))()\n",
            "8\n"
          ],
          "name": "stdout"
        }
      ]
    },
    {
      "cell_type": "code",
      "metadata": {
        "id": "vG5JyjUWDgmk",
        "colab_type": "code",
        "colab": {}
      },
      "source": [
        ""
      ],
      "execution_count": 0,
      "outputs": []
    }
  ]
}